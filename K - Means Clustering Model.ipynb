{
 "cells": [
  {
   "cell_type": "markdown",
   "metadata": {},
   "source": [
    "# K Means Clustering"
   ]
  },
  {
   "cell_type": "markdown",
   "metadata": {},
   "source": [
    "### Dataset: Online Shoppers Intention Dataset\n",
    "### Number of attributes: 16\n",
    "### Number of instances: 12330"
   ]
  },
  {
   "cell_type": "code",
   "execution_count": 19,
   "metadata": {},
   "outputs": [],
   "source": [
    "import pandas as pd\n",
    "import numpy as np\n",
    "import matplotlib.pyplot as plt"
   ]
  },
  {
   "cell_type": "code",
   "execution_count": 20,
   "metadata": {
    "scrolled": false
   },
   "outputs": [],
   "source": [
    "ds = pd.read_csv(\"online_shoppers_intention.csv\")\n"
   ]
  },
  {
   "cell_type": "markdown",
   "metadata": {},
   "source": [
    "### Data Preprocessing"
   ]
  },
  {
   "cell_type": "code",
   "execution_count": 21,
   "metadata": {},
   "outputs": [
    {
     "data": {
      "text/plain": [
       "False"
      ]
     },
     "execution_count": 21,
     "metadata": {},
     "output_type": "execute_result"
    }
   ],
   "source": [
    "ds.isnull().values.any()"
   ]
  },
  {
   "cell_type": "markdown",
   "metadata": {},
   "source": [
    "### Normalization of Data"
   ]
  },
  {
   "cell_type": "code",
   "execution_count": 22,
   "metadata": {},
   "outputs": [],
   "source": [
    "ds['Administrative']=(ds['Administrative']-ds['Administrative'].mean())/(ds['Administrative'].std())\n",
    "ds['Administrative_Duration']=(ds['Administrative_Duration']-ds['Administrative_Duration'].mean())/(ds['Administrative_Duration'].std())\n",
    "ds['Informational_Duration']=(ds['Informational_Duration']-ds['Informational_Duration'].mean())/(ds['Informational_Duration'].std())\n",
    "ds['ProductRelated']=(ds['ProductRelated']-ds['ProductRelated'].mean())/(ds['ProductRelated'].std())\n",
    "ds['ProductRelated_Duration']=(ds['ProductRelated_Duration']-ds['ProductRelated_Duration'].mean())/(ds['ProductRelated_Duration'].std())\n",
    "ds['PageValues']=(ds['PageValues']-ds['PageValues'].mean())/(ds['PageValues'].std())"
   ]
  },
  {
   "cell_type": "code",
   "execution_count": 23,
   "metadata": {},
   "outputs": [],
   "source": [
    "X = np.array([ds['Administrative'],ds['Administrative_Duration'],ds['Informational'],ds['Informational_Duration'],ds['ProductRelated'],ds['ProductRelated_Duration'],ds['BounceRates'],ds['ExitRates'],ds['PageValues'],ds['SpecialDay'],ds['OperatingSystems'],ds['Browser'],ds['Region'],ds['TrafficType'],ds['Weekend'],ds['Revenue']])"
   ]
  },
  {
   "cell_type": "code",
   "execution_count": 24,
   "metadata": {},
   "outputs": [
    {
     "name": "stdout",
     "output_type": "stream",
     "text": [
      "(16, 12330)\n",
      "(12330, 16)\n"
     ]
    }
   ],
   "source": [
    "print(np.shape(X))\n",
    "X = X.T\n",
    "print(np.shape(X))\n",
    "X=np.matrix(X)"
   ]
  },
  {
   "cell_type": "markdown",
   "metadata": {},
   "source": [
    "### Function to calculate Euclidean Distance\n",
    "Euclidean distance is used as a distance measure for the algorithm."
   ]
  },
  {
   "cell_type": "code",
   "execution_count": 25,
   "metadata": {},
   "outputs": [],
   "source": [
    "def computeDistance(x1,x2):\n",
    "    d=np.sqrt(np.sum(np.power((x1-x2),2)))\n",
    "    return d"
   ]
  },
  {
   "cell_type": "markdown",
   "metadata": {},
   "source": [
    "### Random Initialization of centroids among the samples"
   ]
  },
  {
   "cell_type": "code",
   "execution_count": 26,
   "metadata": {},
   "outputs": [],
   "source": [
    "def randomInit(X,no_of_clusters,no_of_samples,nof):\n",
    "    centroids = []\n",
    "    for i in range(no_of_clusters):\n",
    "        temp = np.random.randint(0,no_of_samples)\n",
    "        tempcents = []\n",
    "        for j in range(nof):\n",
    "            tempcents.append(X[temp,j])\n",
    "        centroids.append(tempcents)\n",
    "    centroids = np.matrix(centroids)\n",
    "    return centroids\n",
    "\n"
   ]
  },
  {
   "cell_type": "markdown",
   "metadata": {},
   "source": [
    "### Label / Assign the given data sample to the nearest centroid\n",
    "Every data sample point is assigned to the nearest centroid determined by Euclidean Distance."
   ]
  },
  {
   "cell_type": "code",
   "execution_count": 27,
   "metadata": {},
   "outputs": [],
   "source": [
    "def labelling(x,centroids):\n",
    "    distances = {}\n",
    "    for i in range(len(centroids)):\n",
    "        distances[computeDistance(x,centroids[i,:])] = i\n",
    "    return distances[min(distances.keys())]"
   ]
  },
  {
   "cell_type": "markdown",
   "metadata": {},
   "source": [
    "### Assign centroids for all data samples"
   ]
  },
  {
   "cell_type": "code",
   "execution_count": 28,
   "metadata": {},
   "outputs": [],
   "source": [
    "def clusterAssignment(X,clusters,centroids):\n",
    "    for i in range(len(X)):\n",
    "        clusters[i] = labelling(X[i,:],centroids)\n",
    "    return clusters"
   ]
  },
  {
   "cell_type": "markdown",
   "metadata": {},
   "source": [
    "The mean of all the points(data samples) assigned to a particular centroid is computed.\n",
    "\n",
    "The mean is then set as the new Centroid."
   ]
  },
  {
   "cell_type": "code",
   "execution_count": 29,
   "metadata": {},
   "outputs": [],
   "source": [
    "def updateCentroid(X,clusters,centroids,nof):\n",
    "    sums = np.matrix(np.zeros(centroids.shape))\n",
    "    count = np.zeros(len(centroids),dtype=int)\n",
    "    newCentroids = np.matrix(np.zeros(centroids.shape))\n",
    "    for i in range(len(X)):\n",
    "        for j in range(nof):\n",
    "            sums[clusters[i],j]+=X[i,j]\n",
    "        count[clusters[i]]+=1\n",
    "    for i in range(len(centroids)):\n",
    "        newCentroids[i,:] = sums[i,:]/count[i]\n",
    "    return newCentroids"
   ]
  },
  {
   "cell_type": "markdown",
   "metadata": {},
   "source": [
    " _K-Means_ Algorithm<br>\n",
    " The following steps are followed until convergence or for specified number of iterations.<br>\n",
    "1. Cluster Assignment : Assign every point to its nearest centroid (_clusterAssignment_ function).\n",
    "2. Update the Centroids : Compute the mean of each cluster and update it as the new centroid. (_updateCentroid_ function).    "
   ]
  },
  {
   "cell_type": "code",
   "execution_count": 30,
   "metadata": {},
   "outputs": [],
   "source": [
    "def kmeans_call(X,clusters,centroids,iterations,nof): \n",
    "    for i in range(iterations):\n",
    "        clusters = clusterAssignment(X,clusters,centroids)\n",
    "        new_centroids = updateCentroid(X,clusters,centroids,nof)     \n",
    "        centroids = new_centroids\n",
    "        \n",
    "    return centroids,clusters    "
   ]
  },
  {
   "cell_type": "code",
   "execution_count": 31,
   "metadata": {},
   "outputs": [],
   "source": [
    "number_of_samples = 12230\n",
    "number_of_iterations = 100\n",
    "number_of_features = 16"
   ]
  },
  {
   "cell_type": "markdown",
   "metadata": {},
   "source": [
    "### Calculating optimum value of K\n",
    "Plot the graphs for different values of K to obtain the optimum value of K using the elbow curve"
   ]
  },
  {
   "cell_type": "code",
   "execution_count": 32,
   "metadata": {},
   "outputs": [
    {
     "name": "stdout",
     "output_type": "stream",
     "text": [
      "[255785.95675696 211574.180917   193524.17031007 173590.97562519]\n"
     ]
    },
    {
     "data": {
      "image/png": "[encoded data removed]",
      "text/plain": [
       "<Figure size 432x288 with 1 Axes>"
      ]
     },
     "metadata": {
      "needs_background": "light"
     },
     "output_type": "display_data"
    }
   ],
   "source": [
    "plt.figure()\n",
    "k=[2,3,4,5]\n",
    "\n",
    "s=np.zeros(len(k))\n",
    "for j in range(len(k)):\n",
    "    centroids = randomInit(X,k[j],number_of_samples,number_of_features)\n",
    "    clusters = np.zeros(len(X),dtype=int)\n",
    "    (finalCentroids,finalClusters) = kmeans_call(X,clusters,centroids,number_of_iterations,number_of_features)\n",
    "    for i in range(len(X)):\n",
    "        s[j]+=np.sum(np.power(X[i,:]-finalCentroids[finalClusters[i],:],2))\n",
    "print(s)    \n",
    "plt.plot(s,k)\n",
    "plt.show()"
   ]
  },
  {
   "cell_type": "code",
   "execution_count": 33,
   "metadata": {},
   "outputs": [],
   "source": [
    "number_of_clusters = 3"
   ]
  },
  {
   "cell_type": "code",
   "execution_count": 34,
   "metadata": {},
   "outputs": [],
   "source": [
    "centroids = randomInit(X,number_of_clusters,number_of_samples,number_of_features) \n",
    "clusters = np.zeros(len(X),dtype=int)"
   ]
  },
  {
   "cell_type": "code",
   "execution_count": 35,
   "metadata": {},
   "outputs": [],
   "source": [
    "(finalCentroids,finalClusters) = kmeans_call(X,clusters,centroids,number_of_iterations,number_of_features)"
   ]
  },
  {
   "cell_type": "code",
   "execution_count": 36,
   "metadata": {},
   "outputs": [
    {
     "name": "stdout",
     "output_type": "stream",
     "text": [
      "[[ 1.38113770e+00  1.17720560e+00  2.89248120e+00  1.46010585e+00\n",
      "   1.44056910e+00  1.36061313e+00  6.47494756e-03  2.01274744e-02\n",
      "   1.88797324e-01  3.02255639e-02  2.09548872e+00  2.19699248e+00\n",
      "   2.63007519e+00  2.39473684e+00  2.49624060e-01  2.77443609e-01]\n",
      " [-8.48920867e-02 -3.93331679e-02  3.73557692e-01 -8.71927315e-02\n",
      "  -8.39642568e-02 -6.73122921e-02  3.02225179e-02  5.10775126e-02\n",
      "   1.20189029e-03  6.18269231e-02  2.40000000e+00  2.55913462e+00\n",
      "   3.28798077e+00  1.20408654e+01  2.46634615e-01  1.55769231e-01]\n",
      " [-1.86136502e-01 -1.66353191e-01  1.77690583e-01 -1.97374429e-01\n",
      "  -1.95214266e-01 -1.87175549e-01  2.26620183e-02  4.46274472e-02\n",
      "  -2.84305351e-02  6.59865471e-02  2.06390135e+00  2.33385650e+00\n",
      "   3.19170404e+00  2.46053812e+00  2.26793722e-01  1.36210762e-01]] [2 2 2 ... 1 1 2] 3 12330\n"
     ]
    }
   ],
   "source": [
    "print(finalCentroids,finalClusters, len(finalCentroids),len(finalClusters))"
   ]
  }
 ],
 "metadata": {
  "kernelspec": {
   "display_name": "Python 2",
   "language": "python",
   "name": "python2"
  },
  "language_info": {
   "codemirror_mode": {
    "name": "ipython",
    "version": 3
   },
   "file_extension": ".py",
   "mimetype": "text/x-python",
   "name": "python",
   "nbconvert_exporter": "python",
   "pygments_lexer": "ipython3",
   "version": "3.6.7"
  }
 },
 "nbformat": 4,
 "nbformat_minor": 2
}
